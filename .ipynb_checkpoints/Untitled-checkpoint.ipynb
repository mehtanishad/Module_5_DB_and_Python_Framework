{
 "cells": [
  {
   "cell_type": "markdown",
   "id": "53f384ac",
   "metadata": {},
   "source": [
    "# Why Django should be used for web-development? Explain how you can create a project in Django? \n",
    "\n",
    " Django is a high-level Python web framework that enables rapid development of secure and maintainable websites.Built by experienced developers, Django takes care of much of the hassle of web development, so you can focus on writing your app without needing to reinvent the wheel\n",
    "\n",
    "django-admin startproject project_name "
   ]
  },
  {
   "cell_type": "code",
   "execution_count": null,
   "id": "fba809d4",
   "metadata": {},
   "outputs": [],
   "source": []
  }
 ],
 "metadata": {
  "kernelspec": {
   "display_name": "Python 3 (ipykernel)",
   "language": "python",
   "name": "python3"
  },
  "language_info": {
   "codemirror_mode": {
    "name": "ipython",
    "version": 3
   },
   "file_extension": ".py",
   "mimetype": "text/x-python",
   "name": "python",
   "nbconvert_exporter": "python",
   "pygments_lexer": "ipython3",
   "version": "3.9.12"
  }
 },
 "nbformat": 4,
 "nbformat_minor": 5
}
