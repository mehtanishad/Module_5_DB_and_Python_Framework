{
 "cells": [
  {
   "cell_type": "markdown",
   "id": "53f384ac",
   "metadata": {},
   "source": [
    "# Why Django should be used for web-development? Explain how you can create a project in Django? \n",
    "\n",
    " Django is a high-level Python web framework that enables rapid development of secure and maintainable websites.Built by experienced developers, Django takes care of much of the hassle of web development, so you can focus on writing your app without needing to reinvent the wheel\n",
    "\n",
    "django-admin startproject project_name "
   ]
  },
  {
   "cell_type": "markdown",
   "id": "b6277e71",
   "metadata": {},
   "source": [
    "## How to check installed version of django?"
   ]
  },
  {
   "cell_type": "markdown",
   "id": "279c74ca",
   "metadata": {},
   "source": [
    "# in python\n",
    "import django\n",
    "django.VERSION\n",
    "(3, 0, 5, 'final', 0)\n",
    "\n",
    "\n",
    "# in bash\n",
    "$ python -m django --version"
   ]
  },
  {
   "cell_type": "markdown",
   "id": "737486bc",
   "metadata": {},
   "source": [
    "## Explain what does django-admin.py make messages command is used for? "
   ]
  },
  {
   "cell_type": "markdown",
   "id": "63ac21c9",
   "metadata": {},
   "source": [
    "Ans :- It creates (or updates) a message file in the conf/locale (in the Django tree) or locale (for project and application) directory. After making changes to the messages files you need to compile them with compilemessages for use with the builtin gettext support"
   ]
  },
  {
   "cell_type": "markdown",
   "id": "5483f5ee",
   "metadata": {},
   "source": [
    "## What is Django URLs?make program to create django urls "
   ]
  },
  {
   "cell_type": "markdown",
   "id": "adbe0264",
   "metadata": {},
   "source": [
    "Ans :- Django runs through each URL pattern, in order, and stops at the first one that matches the requested URL, matching against path_info .\n",
    "from django.contrib import admin\n",
    "\n",
    "from django.urls import path, include\n",
    "\n",
    "urlpatterns = [\n",
    "\n",
    "path('admin/', admin.site.urls),\n",
    "\n",
    "path('', include('books.urls')),\n",
    "\n",
    "]"
   ]
  },
  {
   "cell_type": "markdown",
   "id": "e367d9c3",
   "metadata": {},
   "source": [
    "## What is a QuerySet?Write program to create a new Post object in database: "
   ]
  },
  {
   "cell_type": "markdown",
   "id": "732a3c1a",
   "metadata": {},
   "source": [
    "Ans :- A QuerySet is a collection of data from a database. A QuerySet is built up as a list of objects. QuerySets makes it easier to get the data you actually need, by allowing you to filter and order the data."
   ]
  },
  {
   "cell_type": "code",
   "execution_count": 3,
   "id": "062030e7",
   "metadata": {},
   "outputs": [
    {
     "name": "stdout",
     "output_type": "stream",
     "text": [
      "137.57\n"
     ]
    }
   ],
   "source": [
    "import urllib.request, json\n",
    "resp = urllib.request.urlopen('https://query2.finance.yahoo.com/v10/finance/quoteSummary/tsla?modules=price')\n",
    "data = json.loads(resp.read())\n",
    "price = data['quoteSummary']['result'][0]['price']['regularMarketPrice']['raw']\n",
    "print(price) "
   ]
  },
  {
   "cell_type": "markdown",
   "id": "a20fc5e4",
   "metadata": {},
   "source": [
    "# Mention what command line can be used to load data into Django?"
   ]
  },
  {
   "cell_type": "markdown",
   "id": "c1c70d96",
   "metadata": {},
   "source": [
    "Ans: To load data into Django you have to use the command line Django-admin.py loaddata. The command line will searches the data and loads the contents of the named fixtures into the database"
   ]
  },
  {
   "cell_type": "markdown",
   "id": "f87a06b9",
   "metadata": {},
   "source": [
    "## Explain what does django-admin.py make messages command is used for? "
   ]
  },
  {
   "cell_type": "markdown",
   "id": "2e7c1a3e",
   "metadata": {},
   "source": [
    "Ans :- It creates (or updates) a message file in the conf/locale (in the Django tree) or locale (for project and application) directory\n",
    "\n",
    "python -m django startproject mysite"
   ]
  },
  {
   "cell_type": "markdown",
   "id": "e61a75ec",
   "metadata": {},
   "source": [
    "## Make Django application to demonstrate following things o There will be 2 modules(Admin,Product manager) o Admin can add product name (ex.Product id and product name) ex. (1, Samsung), (2, Apple)...etc. Data should store in "
   ]
  },
  {
   "cell_type": "code",
   "execution_count": null,
   "id": "4ad3ac0d",
   "metadata": {},
   "outputs": [],
   "source": []
  },
  {
   "cell_type": "markdown",
   "id": "bb84d6ed",
   "metadata": {},
   "source": [
    " "
   ]
  },
  {
   "cell_type": "markdown",
   "id": "d6cf80a9",
   "metadata": {},
   "source": []
  },
  {
   "cell_type": "code",
   "execution_count": null,
   "id": "1ab1a9e9",
   "metadata": {},
   "outputs": [],
   "source": []
  }
 ],
 "metadata": {
  "kernelspec": {
   "display_name": "Python 3 (ipykernel)",
   "language": "python",
   "name": "python3"
  },
  "language_info": {
   "codemirror_mode": {
    "name": "ipython",
    "version": 3
   },
   "file_extension": ".py",
   "mimetype": "text/x-python",
   "name": "python",
   "nbconvert_exporter": "python",
   "pygments_lexer": "ipython3",
   "version": "3.9.12"
  }
 },
 "nbformat": 4,
 "nbformat_minor": 5
}
